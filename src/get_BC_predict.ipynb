{
 "cells": [
  {
   "cell_type": "code",
   "execution_count": 1,
   "metadata": {},
   "outputs": [],
   "source": [
    "import spectral.io.envi as envi\n",
    "from proj.tasks import send_matrix_to_queue_task, read_image_spectral, clf_RF_1, read_col_data_from_file\n",
    "import numpy as np\n",
    "import pandas as pd\n",
    "import sqlite3\n",
    "from concurrent.futures import ThreadPoolExecutor, as_completed\n",
    "import os\n",
    "import json\n",
    "from datetime import datetime\n",
    "import time\n",
    "import matplotlib.pyplot as plt\n",
    "import matplotlib as mpl\n",
    "from matplotlib.colors import LinearSegmentedColormap, ListedColormap\n",
    "import numpy as np\n",
    "import matplotlib.pyplot as plt\n",
    "from matplotlib.colors import LinearSegmentedColormap\n",
    "from matplotlib import colormaps\n",
    "import time "
   ]
  },
  {
   "cell_type": "code",
   "execution_count": 14,
   "metadata": {},
   "outputs": [],
   "source": [
    "def load_result(result_path):\n",
    "\twith np.load(result_path) as file:\n",
    "\t\treturn file[\"arr_0\"]"
   ]
  },
  {
   "cell_type": "code",
   "execution_count": 31,
   "metadata": {},
   "outputs": [],
   "source": [
    "# result_path = \"./data/saved_result/T_J_predict_N_2024-03-02-22-23-30_using_get_max_bands.npz\"\n",
    "result_path = input('Nhap duong dan ket qua: ')\n",
    "file_name = os.path.splitext(os.path.basename(result_path))[0]\n",
    "nitos = load_result(result_path)"
   ]
  },
  {
   "cell_type": "code",
   "execution_count": 32,
   "metadata": {},
   "outputs": [],
   "source": [
    "BC2\t= nitos[3778, 1808]\n",
    "BC3\t= nitos[4641, 3068]\n",
    "BC4\t= nitos[3185, 4085]\n",
    "BC5\t= nitos[2468, 4010]"
   ]
  },
  {
   "cell_type": "code",
   "execution_count": 33,
   "metadata": {},
   "outputs": [
    {
     "name": "stdout",
     "output_type": "stream",
     "text": [
      "J_predict_P_2024-03-05-18-46-25_using_get_average_bands\n",
      "BC2=6343.31201171875\n",
      "BC3=8089.1357421875\n",
      "BC4=5924.66015625\n",
      "BC5=5679.90380859375\n"
     ]
    }
   ],
   "source": [
    "print(file_name)\n",
    "print(f\"{BC2=}\")\n",
    "print(f\"{BC3=}\")\n",
    "print(f\"{BC4=}\")\n",
    "print(f\"{BC5=}\")"
   ]
  },
  {
   "cell_type": "code",
   "execution_count": 34,
   "metadata": {},
   "outputs": [
    {
     "name": "stdout",
     "output_type": "stream",
     "text": [
      "6343.31201171875\n",
      "8089.1357421875\n",
      "5924.66015625\n",
      "5679.90380859375\n"
     ]
    }
   ],
   "source": [
    "print(f\"{BC2}\")\n",
    "print(f\"{BC3}\")\n",
    "print(f\"{BC4}\")\n",
    "print(f\"{BC5}\")"
   ]
  }
 ],
 "metadata": {
  "kernelspec": {
   "display_name": "venv",
   "language": "python",
   "name": "python3"
  },
  "language_info": {
   "codemirror_mode": {
    "name": "ipython",
    "version": 3
   },
   "file_extension": ".py",
   "mimetype": "text/x-python",
   "name": "python",
   "nbconvert_exporter": "python",
   "pygments_lexer": "ipython3",
   "version": "3.11.5"
  }
 },
 "nbformat": 4,
 "nbformat_minor": 2
}
